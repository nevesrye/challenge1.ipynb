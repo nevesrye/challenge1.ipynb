Make a copy of this notebook and upload the completed notebook (in .ipynb format) to your GitHub.¶
In [6]:

# Write a program that will work out the distance travelled if the user enters 
# the speed and the time.
s=int(input("speed: "))
t=int(input("time: "))
distance_travelled=s*t
print("distance travelled: ", distance_travelled)
speed: 4
time: 4
distance travelled:  16
In [7]:

# Write a program to tell you the speed you would have to travel at in order 
# to go a distance within a certain time entered.
d=float(input("distance: "))
t=float(input("time: "))
speed=d/t
print("speed: ",speed)
distance: 4
time: 4
speed:  1.0
In [1]:

# Write a program to work out how many days you have lived for.
import datetime
from datetime import date
birth=datetime.date(int(input("year: ")),int(input("month: ")),int(input("day: ")))
today=date.today()
days_lived=today-birth
print("days lived: ",days_lived)
year: 1994
month: 4
day: 4
days lived:  8415 days, 0:00:00
In [16]:

# Write a program to work out how many seconds you have lived for.
import datetime
from datetime import date
birth=datetime.date(int(input("year: ")),int(input("month: ")),int(input("day: ")))
today=date.today()
days_lived=today-birth
print("seconds lived: ",days_lived.days*(24*60*60), "seconds")
year: 1994
month: 4
day: 4
seconds lived:  727056000 seconds
In [4]:

#### Write a program that will accept a date of birth and determine whether one 
# is considered an adult (i.e. 21 years old).
import datetime
from datetime import date
birth=datetime.date(int(input("year: ")),int(input("month: ")),int(input("day: ")))
today=date.today()
days_lived=today-birth
years_lived=days_lived.days/365
if years_lived>=21:
    print("adult.")
else:
    print("not an adult.")
year: 1994
month: 4
day: 4
adult.
In [19]:

# Write a program that will generate a random playing card e.g. '9 Hearts',
# 'Queen Spades' when the return key is pressed.
# Note: Rather than generate a random number from 1 to 52. Create two random 
# numbers – one for the suit and one for the card.
from random import randint
map={11:'jack',12:"queen",13:"king"}
suit={1:"diamonds",2:"clubs",3:"hearts",4:"spades"}
i=randint(1,13)
s=randint(1,4)
if i<=10:print(i,end=' ')
else: print(map[i],end=' ')
print(suit[s],end=" ")
king clubs 
In [3]:

# Make a game of rock, paper, scissors against the computer.
# Algorithm
# Tell user to enter either rock,paper or scissors
# Get the response
# Generate a random number from 1 to 3 (1=rock,2=paper,3=scissors)
# Compare user selection and computer selection
# Display who wins.
from random import randint
user=input("choice of rock, paper, scissors: ")
options={"rock":1,"paper":2,"scissors":3}
r=randint(1,3)
if user in options:
    if(options[user]<r or (options[user]==3 and r==1)):
        print("winner is computer bot.")
    else:
        print("winner is user.")
choice of rock, paper, scissors: paper
winner is user.
In [*]:

# For the rock, paper, scissors game above, ensure that the user enters a valid 
# entry. Add a loop structure to play several times and keep a running score.
from random import randint
result=0
for i in range(10):
    user1=input("choice of rock, paper or scissors: ")
    options1={"rock":1,"paper":2,"scissors":3}
    r=randint(1,3)
    if user1 in options1:
        if(options1[user1]<r or (options1[user1]==3 and r==1)):
            print("winner is computer bot.")
            print("current score: ",result)
        else: 
            print("winner is user.")
            result+=1
            print("current score: ",result)
choice of rock, paper or scissors: paper
winner is user.
current score:  1
choice of rock, paper or scissors: paper
winner is user.
current score:  2
choice of rock, paper or scissors: paper
winner is user.
current score:  3
choice of rock, paper or scissors: paper
winner is computer bot.
current score:  3
choice of rock, paper or scissors: paper
winner is user.
current score:  4
In [5]:

# Write a program that will give the answer to logic gate questions e.g.
# Enter logic gate : OR
# Enter first input : 1
# Enter second input :0
# Result = 1
# It should work for the logic gates OR, XOR, NAND and NOR gates.
logic_gate=(input("logic gate: "))
first=int(input("first input: "))
second=int(input("second input: "))
if(first==0):
    a=False
else: 
    a=True
if(second==0):
    b=False
else: 
    b=True
if (logic_gate=="OR"):
    result=(b or a)
if (logic_gate=="XOR"):
    result=not(b==a)
if (logic_gate=="NOR"):
    result=not(b or a)
if (logic_gate=="NAND"):
    result=not(b and a)
if (result==True):
    print("result=1")
else:
    print("result=0")
logic gate: NOR
first input: 1
second input: 1
result=0
In [6]:

# Write a program that will display all the factors of an input number that
# are bigger than 1.
# (e.g. the factors of the number 12 are 6,4,3 and 2 because they divide
# into 12 exactly).
# Hint: To find out whether a number X is a factor of Y use:
# If Y mod X == 0 (there is nothing remaining when Y is divided by X)
num=int(input("integer: "))
for i in range(2,num):
    if(num%i==0):
        print(i,end=' ')
integer: 44
2 4 11 22 
